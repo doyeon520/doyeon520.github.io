{
 "cells": [
  {
   "cell_type": "code",
   "execution_count": 1,
   "metadata": {},
   "outputs": [],
   "source": [
    "from konlpy.tag import Kkma"
   ]
  },
  {
   "cell_type": "code",
   "execution_count": 2,
   "metadata": {},
   "outputs": [],
   "source": [
    "kkma=Kkma()"
   ]
  },
  {
   "cell_type": "code",
   "execution_count": 3,
   "metadata": {},
   "outputs": [
    {
     "name": "stdout",
     "output_type": "stream",
     "text": [
      "['네, 안녕하세요.', '반갑습니다.', '저는 개발자입니다.']\n"
     ]
    }
   ],
   "source": [
    "print(kkma.sentences(\"네,안녕하세요.반갑습니다. 저는 개발자입니다.\"))"
   ]
  },
  {
   "cell_type": "code",
   "execution_count": 4,
   "metadata": {},
   "outputs": [],
   "source": [
    "import collections"
   ]
  },
  {
   "cell_type": "code",
   "execution_count": 5,
   "metadata": {},
   "outputs": [
    {
     "name": "stdout",
     "output_type": "stream",
     "text": [
      "Counter({'가': 2, '나': 2, '다': 1, '라': 1, '마': 1, '바': 1})\n"
     ]
    }
   ],
   "source": [
    "print(collections.Counter([\"가\",\"나\",\"다\",\"라\",\"마\",\"바\",\"가\",\"나\"]))"
   ]
  },
  {
   "cell_type": "code",
   "execution_count": 7,
   "metadata": {},
   "outputs": [
    {
     "name": "stdout",
     "output_type": "stream",
     "text": [
      "가 : 2\n",
      "나 : 2\n",
      "다 : 1\n",
      "라 : 1\n",
      "마 : 1\n",
      "바 : 1\n"
     ]
    }
   ],
   "source": [
    "for k,v in collections.Counter([\"가\",\"나\",\"다\",\"라\",\"마\",\"바\",\"가\",\"나\"]).items():\n",
    "    print(k, \":\" ,v)"
   ]
  },
  {
   "cell_type": "code",
   "execution_count": 8,
   "metadata": {},
   "outputs": [],
   "source": [
    "list_a=[\"가\",\"나\",\"다\",\"라\",\"마\",\"바\",\"가\",\"나\"]\n",
    "list_b=[\"가\",\"나\",\"다\",\"라\",\"마\",\"바\",\"가\",\"나\",\"아\",\"자\",\"마\"]\n",
    "list_c=list_a+list_b"
   ]
  },
  {
   "cell_type": "code",
   "execution_count": 10,
   "metadata": {},
   "outputs": [
    {
     "data": {
      "text/plain": [
       "Counter({'가': 4, '나': 4, '다': 2, '라': 2, '마': 3, '바': 2, '아': 1, '자': 1})"
      ]
     },
     "execution_count": 10,
     "metadata": {},
     "output_type": "execute_result"
    }
   ],
   "source": [
    "collections.Counter(list_c)"
   ]
  },
  {
   "cell_type": "code",
   "execution_count": 11,
   "metadata": {},
   "outputs": [
    {
     "data": {
      "text/plain": [
       "[('가', 4), ('나', 4), ('마', 3)]"
      ]
     },
     "execution_count": 11,
     "metadata": {},
     "output_type": "execute_result"
    }
   ],
   "source": [
    "collections.Counter(list_c).most_common(3)"
   ]
  },
  {
   "cell_type": "code",
   "execution_count": 14,
   "metadata": {},
   "outputs": [],
   "source": [
    "list_sentence=[\n",
    "    \"저는 여자친구가 없어요.\",\n",
    "    \"저는 남자친구가 있어요.\",\n",
    "    \"아버지가 방에 들어가신다.\",\n",
    "    \"아버지 가방에 들어가신다.\",\n",
    "    \"저는 데이터분석가가 될거에요.\",\n",
    "    \"인생은 재미있어요\",\n",
    "    \"유투브를 시작할거야\"\n",
    "]"
   ]
  },
  {
   "cell_type": "code",
   "execution_count": 15,
   "metadata": {},
   "outputs": [
    {
     "name": "stdout",
     "output_type": "stream",
     "text": [
      "저는 여자친구가 없어요.\n",
      "저는 남자친구가 있어요.\n",
      "아버지가 방에 들어가신다.\n",
      "아버지 가방에 들어가신다.\n",
      "저는 데이터분석가가 될거에요.\n",
      "인생은 재미있어요\n",
      "유투브를 시작할거야\n"
     ]
    }
   ],
   "source": [
    "for i in list_sentence:\n",
    "    print(i)"
   ]
  },
  {
   "cell_type": "code",
   "execution_count": 20,
   "metadata": {},
   "outputs": [
    {
     "name": "stdout",
     "output_type": "stream",
     "text": [
      "['여자', '여자친구', '친구']\n",
      "['여자', '여자친구', '친구']\n",
      "------------------------------------------------\n",
      "['남자', '남자친구', '친구']\n",
      "['여자', '여자친구', '친구', '남자', '남자친구', '친구']\n",
      "------------------------------------------------\n",
      "['아버지', '방']\n",
      "['여자', '여자친구', '친구', '남자', '남자친구', '친구', '아버지', '방']\n",
      "------------------------------------------------\n",
      "['아버지', '가방']\n",
      "['여자', '여자친구', '친구', '남자', '남자친구', '친구', '아버지', '방', '아버지', '가방']\n",
      "------------------------------------------------\n",
      "['데이터', '데이터분석가', '분석가', '거']\n",
      "['여자', '여자친구', '친구', '남자', '남자친구', '친구', '아버지', '방', '아버지', '가방', '데이터', '데이터분석가', '분석가', '거']\n",
      "------------------------------------------------\n",
      "['인생']\n",
      "['여자', '여자친구', '친구', '남자', '남자친구', '친구', '아버지', '방', '아버지', '가방', '데이터', '데이터분석가', '분석가', '거', '인생']\n",
      "------------------------------------------------\n",
      "['유투브', '시작', '거']\n",
      "['여자', '여자친구', '친구', '남자', '남자친구', '친구', '아버지', '방', '아버지', '가방', '데이터', '데이터분석가', '분석가', '거', '인생', '유투브', '시작', '거']\n",
      "------------------------------------------------\n"
     ]
    }
   ],
   "source": [
    "list_result=[]\n",
    "for i in list_sentence:\n",
    "    print(kkma.nouns(i))\n",
    "    list_result=list_result+kkma.nouns(i)\n",
    "    print(list_result)\n",
    "    print(\"------------------------------------------------\")"
   ]
  },
  {
   "cell_type": "code",
   "execution_count": 23,
   "metadata": {},
   "outputs": [
    {
     "data": {
      "text/plain": [
       "[('친구', 2), ('아버지', 2), ('거', 2), ('여자', 1), ('여자친구', 1)]"
      ]
     },
     "execution_count": 23,
     "metadata": {},
     "output_type": "execute_result"
    }
   ],
   "source": [
    "collections.Counter(list_result).most_common(5)"
   ]
  },
  {
   "cell_type": "code",
   "execution_count": null,
   "metadata": {},
   "outputs": [],
   "source": []
  }
 ],
 "metadata": {
  "kernelspec": {
   "display_name": "Python 3",
   "language": "python",
   "name": "python3"
  },
  "language_info": {
   "codemirror_mode": {
    "name": "ipython",
    "version": 3
   },
   "file_extension": ".py",
   "mimetype": "text/x-python",
   "name": "python",
   "nbconvert_exporter": "python",
   "pygments_lexer": "ipython3",
   "version": "3.6.10"
  }
 },
 "nbformat": 4,
 "nbformat_minor": 4
}
